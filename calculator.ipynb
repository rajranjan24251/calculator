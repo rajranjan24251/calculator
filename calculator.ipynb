{
 "cells": [
  {
   "cell_type": "code",
   "execution_count": 1,
   "id": "a08c7a45-cdfa-43d0-a5cd-fc66c2fffa32",
   "metadata": {},
   "outputs": [
    {
     "name": "stdout",
     "output_type": "stream",
     "text": [
      "Simple Calculator\n"
     ]
    },
    {
     "name": "stdin",
     "output_type": "stream",
     "text": [
      "Enter the first number:  3\n",
      "Enter the second number:  5\n"
     ]
    },
    {
     "name": "stdout",
     "output_type": "stream",
     "text": [
      "Choose the operation:\n",
      "1. Addition\n",
      "2. Subtraction\n",
      "3. Multiplication\n",
      "4. Division\n",
      "5. Exit\n"
     ]
    },
    {
     "name": "stdin",
     "output_type": "stream",
     "text": [
      "Enter your choice (1/2/3/4/5):  1\n"
     ]
    },
    {
     "name": "stdout",
     "output_type": "stream",
     "text": [
      "The result of addition: 8.0\n"
     ]
    },
    {
     "name": "stdin",
     "output_type": "stream",
     "text": [
      "Enter the first number:  5\n",
      "Enter the second number:  4\n"
     ]
    },
    {
     "name": "stdout",
     "output_type": "stream",
     "text": [
      "Choose the operation:\n",
      "1. Addition\n",
      "2. Subtraction\n",
      "3. Multiplication\n",
      "4. Division\n",
      "5. Exit\n"
     ]
    },
    {
     "name": "stdin",
     "output_type": "stream",
     "text": [
      "Enter your choice (1/2/3/4/5):  5\n"
     ]
    }
   ],
   "source": [
    "\n",
    "\n",
    "def add(x, y):\n",
    "    return x + y\n",
    "\n",
    "def subtract(x, y):\n",
    "    return x - y\n",
    "\n",
    "def multiply(x, y):\n",
    "    return x * y\n",
    "\n",
    "def divide(x, y):\n",
    "    if y == 0:\n",
    "        return \"Error! Division by zero.\"\n",
    "    return x / y\n",
    "\n",
    "def main():\n",
    "    print(\"Simple Calculator\")\n",
    "    while True:\n",
    "        try:\n",
    "            num1 = float(input(\"Enter the first number: \"))\n",
    "            num2 = float(input(\"Enter the second number: \"))\n",
    "            print(\"Choose the operation:\")\n",
    "            print(\"1. Addition\")\n",
    "            print(\"2. Subtraction\")\n",
    "            print(\"3. Multiplication\")\n",
    "            print(\"4. Division\")\n",
    "            print(\"5. Exit\")\n",
    "            choice = input(\"Enter your choice (1/2/3/4/5): \")\n",
    "\n",
    "            if choice == \"1\":\n",
    "                result = add(num1, num2)\n",
    "                print(f\"The result of addition: {result}\")\n",
    "            elif choice == \"2\":\n",
    "                result = subtract(num1, num2)\n",
    "                print(f\"The result of subtraction: {result}\")\n",
    "            elif choice == \"3\":\n",
    "                result = multiply(num1, num2)\n",
    "                print(f\"The result of multiplication: {result}\")\n",
    "            elif choice == \"4\":\n",
    "                result = divide(num1, num2)\n",
    "                print(f\"The result of division: {result}\")\n",
    "            elif choice == \"5\":\n",
    "                break\n",
    "            else:\n",
    "                print(\"Invalid choice, please try again.\")\n",
    "        except ValueError:\n",
    "            print(\"Invalid input, please enter numerical values.\")\n",
    "\n",
    "if __name__ == \"__main__\":\n",
    "    main()\n"
   ]
  }
 ],
 "metadata": {
  "kernelspec": {
   "display_name": "Python 3 (ipykernel)",
   "language": "python",
   "name": "python3"
  },
  "language_info": {
   "codemirror_mode": {
    "name": "ipython",
    "version": 3
   },
   "file_extension": ".py",
   "mimetype": "text/x-python",
   "name": "python",
   "nbconvert_exporter": "python",
   "pygments_lexer": "ipython3",
   "version": "3.12.4"
  }
 },
 "nbformat": 4,
 "nbformat_minor": 5
}
